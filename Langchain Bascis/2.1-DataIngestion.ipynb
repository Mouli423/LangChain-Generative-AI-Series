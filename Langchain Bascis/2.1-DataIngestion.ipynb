{
 "cells": [
  {
   "cell_type": "markdown",
   "id": "41e4d549",
   "metadata": {},
   "source": [
    " LangChain Document Loaders\n",
    "\n",
    "This notebook demonstrates how to use the most popular and practical document loaders in LangChain.  \n",
    "All loaders are now part of the `langchain_community` package.\n",
    "\n",
    "We'll explore loaders for:\n",
    "- PDFs  \n",
    "- Web pages  \n",
    "- YouTube videos  \n",
    "- Text and CSV files  and many more\n",
    "\n",
    "Each example extracts data and prepares it for text splitting and embeddings.\n"
   ]
  },
  {
   "cell_type": "markdown",
   "id": "b5311d36",
   "metadata": {},
   "source": [
    "# PDF Loader"
   ]
  },
  {
   "cell_type": "code",
   "execution_count": 1,
   "id": "74966509",
   "metadata": {},
   "outputs": [
    {
     "name": "stdout",
     "output_type": "stream",
     "text": [
      "Loaded 15 pages\n",
      "Provided proper attribution is provided, Google hereby grants permission to\n",
      "reproduce the tables and figures in this paper solely for use in journalistic or\n",
      "scholarly works.\n",
      "Attention Is All You Need\n",
      "Ashish Vaswani∗\n",
      "Google Brain\n",
      "avaswani@google.com\n",
      "Noam Shazeer∗\n",
      "Google Brain\n",
      "noam@google.com\n",
      "Niki Parmar∗\n",
      "Google Research\n",
      "nikip@google.com\n",
      "Jakob Uszkoreit∗\n",
      "Google Research\n",
      "usz@google.com\n",
      "Llion Jones∗\n",
      "Google Research\n",
      "llion@google.com\n",
      "Aidan N. Gomez∗ †\n",
      "University of Toronto\n",
      "aidan@cs.toronto.edu\n",
      "Łukasz \n"
     ]
    }
   ],
   "source": [
    "\n",
    "from langchain_community.document_loaders import PyPDFLoader\n",
    "\n",
    "loader = PyPDFLoader(\"attention.pdf\")\n",
    "docs = loader.load()\n",
    "\n",
    "print(f\"Loaded {len(docs)} pages\")\n",
    "print(docs[0].page_content[:500])\n"
   ]
  },
  {
   "cell_type": "markdown",
   "id": "3a5fe1d7",
   "metadata": {},
   "source": [
    "# Web Page Loader"
   ]
  },
  {
   "cell_type": "code",
   "execution_count": 17,
   "id": "bd7ead91",
   "metadata": {},
   "outputs": [
    {
     "name": "stdout",
     "output_type": "stream",
     "text": [
      "Loaded 1 web documents\n",
      "page_content='Context Engineering\n",
      "\n",
      "11 min read Jul 2, 2025\n",
      "\n",
      "TL;DR\n",
      "\n",
      "Agents need context to perform tasks. Context engineering is the art and science of filling the context window with just the right information at each step of an agent’s trajectory. In this post, we break down some common strategies — write, select, compress, and isolate — for context engineering by reviewing various popular agents and papers. We then explain how LangGraph is designed to support them!\n",
      "\n",
      "Also, see our video on context engineering here.\n",
      "\n",
      "Context Engineering\n",
      "\n",
      "As Andrej Karpathy puts it, LLMs are like a new kind of operating system. The LLM is like the CPU and its context window is like the RAM, serving as the model’s working memory. Just like RAM, the LLM context window has limited capacity to handle various sources of context. And just as an operating system curates what fits into a CPU’s RAM, we can think about “context engineering” playing a similar role. Karpathy summarizes this well:\n",
      "\n",
      "[Context engineering is the] ”…delicate art and science of filling the context window with just the right information for the next step.”\n",
      "\n",
      "What are the types of context that we need to manage when building LLM applications? Context engineering as an umbrella that applies across a few different context types:\n",
      "\n",
      "Instructions – prompts, memories, few‑shot examples, tool descriptions, etc\n",
      "\n",
      "Knowledge – facts, memories, etc\n",
      "\n",
      "Tools – feedback from tool calls\n",
      "\n",
      "Context Engineering for Agents\n",
      "\n",
      "This year, interest in agents has grown tremendously as LLMs get better at reasoning and tool calling. Agents interleave LLM invocations and tool calls, often for long-running tasks. Agents interleave LLM calls and tool calls, using tool feedback to decide the next step.\n",
      "\n",
      "However, long-running tasks and accumulating feedback from tool calls mean that agents often utilize a large number of tokens. This can cause numerous problems: it can exceed the size of the context window, balloon cost / latency, or degrade agent performance. Drew Breunig nicely outlined a number of specific ways that longer context can cause perform problems, including:\n",
      "\n",
      "Context Poisoning: When a hallucination makes it into the context\n",
      "\n",
      "Context Distraction: When the context overwhelms the training\n",
      "\n",
      "Context Confusion: When superfluous context influences the response\n",
      "\n",
      "Context Clash: When parts of the context disagree\n",
      "\n",
      "With this in mind, Cognition called out the importance of context engineering:\n",
      "\n",
      "“Context engineering” … is effectively the #1 job of engineers building AI agents.\n",
      "\n",
      "Anthropic also laid it out clearly:\n",
      "\n",
      "Agents often engage in conversations spanning hundreds of turns, requiring careful context management strategies.\n",
      "\n",
      "So, how are people tackling this challenge today? We group common strategies for agent context engineering into four buckets — write, select, compress, and isolate — and give examples of each from review of some popular agent products and papers. We then explain how LangGraph is designed to support them!\n",
      "\n",
      "Write Context\n",
      "\n",
      "Writing context means saving it outside the context window to help an agent perform a task.\n",
      "\n",
      "Scratchpads\n",
      "\n",
      "When humans solve tasks, we take notes and remember things for future, related tasks. Agents are also gaining these capabilities! Note-taking via a “scratchpad” is one approach to persist information while an agent is performing a task. The idea is to save information outside of the context window so that it’s available to the agent. Anthropic’s multi-agent researcher illustrates a clear example of this:\n",
      "\n",
      "The LeadResearcher begins by thinking through the approach and saving its plan to Memory to persist the context, since if the context window exceeds 200,000 tokens it will be truncated and it is important to retain the plan.\n",
      "\n",
      "Scratchpads can be implemented in a few different ways. They can be a tool call that simply writes to a file. They can also be a field in a runtime state object that persists during the session. In either case, scratchpads let agents save useful information to help them accomplish a task.\n",
      "\n",
      "Memories\n",
      "\n",
      "Scratchpads help agents solve a task within a given session (or thread), but sometimes agents benefit from remembering things across many sessions! Reflexion introduced the idea of reflection following each agent turn and re-using these self-generated memories. Generative Agents created memories synthesized periodically from collections of past agent feedback.\n",
      "\n",
      "These concepts made their way into popular products like ChatGPT, Cursor, and Windsurf, which all have mechanisms to auto-generate long-term memories that can persist across sessions based on user-agent interactions.\n",
      "\n",
      "Select Context\n",
      "\n",
      "Selecting context means pulling it into the context window to help an agent perform a task.\n",
      "\n",
      "Scratchpad\n",
      "\n",
      "The mechanism for selecting context from a scratchpad depends upon how the scratchpad is implemented. If it’s a tool, then an agent can simply read it by making a tool call. If it’s part of the agent’s runtime state, then the developer can choose what parts of state to expose to an agent each step. This provides a fine-grained level of control for exposing scratchpad context to the LLM at later turns.\n",
      "\n",
      "Memories\n",
      "\n",
      "If agents have the ability to save memories, they also need the ability to select memories relevant to the task they are performing. This can be useful for a few reasons. Agents might select few-shot examples (episodic memories) for examples of desired behavior, instructions (procedural memories) to steer behavior, or facts (semantic memories) for task-relevant context.\n",
      "\n",
      "One challenge is ensuring that relevant memories are selected. Some popular agents simply use a narrow set of files that are always pulled into context. For example, many code agent use specific files to save instructions (”procedural” memories) or, in some cases, examples (”episodic” memories). Claude Code uses CLAUDE.md. Cursor and Windsurf use rules files.\n",
      "\n",
      "But, if an agent is storing a larger collection of facts and / or relationships (e.g., semantic memories), selection is harder. ChatGPT is a good example of a popular product that stores and selects from a large collection of user-specific memories.\n",
      "\n",
      "Embeddings and / or knowledge graphs for memory indexing are commonly used to assist with selection. Still, memory selection is challenging. At the AIEngineer World’s Fair, Simon Willison shared an example of selection gone wrong: ChatGPT fetched his location from memories and unexpectedly injected it into a requested image. This type of unexpected or undesired memory retrieval can make some users feel like the context window “no longer belongs to them”!\n",
      "\n",
      "Tools\n",
      "\n",
      "Agents use tools, but can become overloaded if they are provided with too many. This is often because the tool descriptions overlap, causing model confusion about which tool to use. One approach is to apply RAG (retrieval augmented generation) to tool descriptions in order to fetch only the most relevant tools for a task. Some recent papers have shown that this improve tool selection accuracy by 3-fold.\n",
      "\n",
      "Knowledge\n",
      "\n",
      "RAG is a rich topic and it can be a central context engineering challenge. Code agents are some of the best examples of RAG in large-scale production. Varun from Windsurf captures some of these challenges well:\n",
      "\n",
      "Indexing code ≠ context retrieval … [We are doing indexing & embedding search … [with] AST parsing code and chunking along semantically meaningful boundaries … embedding search becomes unreliable as a retrieval heuristic as the size of the codebase grows … we must rely on a combination of techniques like grep/file search, knowledge graph based retrieval, and … a re-ranking step where [context] is ranked in order of relevance.\n",
      "\n",
      "Compressing Context\n",
      "\n",
      "Compressing context involves retaining only the tokens required to perform a task.\n",
      "\n",
      "Context Summarization\n",
      "\n",
      "Agent interactions can span hundreds of turns and use token-heavy tool calls. Summarization is one common way to manage these challenges. If you’ve used Claude Code, you’ve seen this in action. Claude Code runs “auto-compact” after you exceed 95% of the context window and it will summarize the full trajectory of user-agent interactions. This type of compression across an agent trajectory can use various strategies such as recursive or hierarchical summarization.\n",
      "\n",
      "It can also be useful to add summarization at specific points in an agent’s design. For example, it can be used to post-process certain tool calls (e.g., token-heavy search tools). As a second example, Cognition mentioned summarization at agent-agent boundaries to reduce tokens during knowledge hand-off. Summarization can be a challenge if specific events or decisions need to be captured. Cognition uses a fine-tuned model for this, which underscores how much work can go into this step.\n",
      "\n",
      "Context Trimming\n",
      "\n",
      "Whereas summarization typically uses an LLM to distill the most relevant pieces of context, trimming can often filter or, as Drew Breunig points out, “prune” context. This can use hard-coded heuristics like removing older messages from a list. Drew also mentions Provence, a trained context pruner for Question-Answering.\n",
      "\n",
      "Isolating Context\n",
      "\n",
      "Isolating context involves splitting it up to help an agent perform a task.\n",
      "\n",
      "Multi-agent\n",
      "\n",
      "One of the most popular ways to isolate context is to split it across sub-agents. A motivation for the OpenAI Swarm library was separation of concerns, where a team of agents can handle specific sub-tasks. Each agent has a specific set of tools, instructions, and its own context window.\n",
      "\n",
      "Anthropic’s multi-agent researcher makes a case for this: many agents with isolated contexts outperformed single-agent, largely because each subagent context window can be allocated to a more narrow sub-task. As the blog said:\n",
      "\n",
      "[Subagents operate] in parallel with their own context windows, exploring different aspects of the question simultaneously.\n",
      "\n",
      "Of course, the challenges with multi-agent include token use (e.g., up to 15× more tokens than chat as reported by Anthropic), the need for careful prompt engineering to plan sub-agent work, and coordination of sub-agents.\n",
      "\n",
      "Context Isolation with Environments\n",
      "\n",
      "HuggingFace’s deep researcher shows another interesting example of context isolation. Most agents use tool calling APIs, which return JSON objects (tool arguments) that can be passed to tools (e.g., a search API) to get tool feedback (e.g., search results). HuggingFace uses a CodeAgent, which outputs that contains the desired tool calls. The code then runs in a sandbox. Selected context (e.g., return values) from the tool calls is then passed back to the LLM.\n",
      "\n",
      "This allows context to be isolated from the LLM in the environment. Hugging Face noted that this is a great way to isolate token-heavy objects in particular:\n",
      "\n",
      "[Code Agents allow for] a better handling of state … Need to store this image / audio / other for later use? No problem, just assign it as a variable in your state and you [use it later].\n",
      "\n",
      "State\n",
      "\n",
      "It’s worth calling out that an agent’s runtime state object can also be a great way to isolate context. This can serve the same purpose as sandboxing. A state object can be designed with a schema that has fields that context can be written to. One field of the schema (e.g., messages) can be exposed to the LLM at each turn of the agent, but the schema can isolate information in other fields for more selective use.\n",
      "\n",
      "Context Engineering with LangSmith / LangGraph\n",
      "\n",
      "So, how can you apply these ideas? Before you start, there are two foundational pieces that are helpful. First, ensure that you have a way to look at your data and track token-usage across your agent. This helps inform where best to apply effort context engineering. LangSmith is well-suited for agent tracing / observability, and offers a great way to do this. Second, be sure you have a simple way to test whether context engineering hurts or improve agent performance. LangSmith enables agent evaluation to test the impact of any context engineering effort.\n",
      "\n",
      "Write context\n",
      "\n",
      "LangGraph was designed with both thread-scoped (short-term) and long-term memory. Short-term memory uses checkpointing to persist agent state across all steps of an agent. This is extremely useful as a “scratchpad”, allowing you to write information to state and fetch it at any step in your agent trajectory.\n",
      "\n",
      "LangGraph’s long-term memory lets you to persist context across many sessions with your agent. It is flexible, allowing you to save small sets of files (e.g., a user profile or rules) or larger collections of memories. In addition, LangMem provides a broad set of useful abstractions to aid with LangGraph memory management.\n",
      "\n",
      "Select context\n",
      "\n",
      "Within each node (step) of a LangGraph agent, you can fetch state. This give you fine-grained control over what context you present to the LLM at each agent step.\n",
      "\n",
      "In addition, LangGraph’s long-term memory is accessible within each node and supports various types of retrieval (e.g., fetching files as well as embedding-based retrieval on a memory collection). For an overview of long-term memory, see our Deeplearning.ai course. And for an entry point to memory applied to a specific agent, see our Ambient Agents course. This shows how to use LangGraph memory in a long-running agent that can manage your email and learn from your feedback.\n",
      "\n",
      "For tool selection, the LangGraph Bigtool library is a great way to apply semantic search over tool descriptions. This helps select the most relevant tools for a task when working with a large collection of tools. Finally, we have several tutorials and videos that show how to use various types of RAG with LangGraph.\n",
      "\n",
      "Compressing context\n",
      "\n",
      "Because LangGraph is a low-level orchestration framework, you lay out your agent as a set of nodes, define the logic within each one, and define an state object that is passed between them. This control offers several ways to compress context.\n",
      "\n",
      "One common approach is to use a message list as your agent state and summarize or trim it periodically using a few built-in utilities. However, you can also add logic to post-process tool calls or work phases of your agent in a few different ways. You can add summarization nodes at specific points or also add summarization logic to your tool calling node in order to compress the output of specific tool calls.\n",
      "\n",
      "Isolating context\n",
      "\n",
      "LangGraph is designed around a state object, allowing you to specify a state schema and access state at each agent step. For example, you can store context from tool calls in certain fields in state, isolating them from the LLM until that context is required. In addition to state, LangGraph supports use of sandboxes for context isolation. See this repo for an example LangGraph agent that uses an E2B sandbox for tool calls. See this video for an example of sandboxing using Pyodide where state can be persisted. LangGraph also has a lot of support for building multi-agent architecture, such as the supervisor and swarm libraries. You can see these videos for more detail on using multi-agent with LangGraph.\n",
      "\n",
      "Conclusion\n",
      "\n",
      "Context engineering is becoming a craft that agents builders should aim to master. Here, we covered a few common patterns seen across many popular agents today:\n",
      "\n",
      "Writing context - saving it outside the context window to help an agent perform a task.\n",
      "\n",
      "Selecting context - pulling it into the context window to help an agent perform a task.\n",
      "\n",
      "Compressing context - retaining only the tokens required to perform a task.\n",
      "\n",
      "Isolating context - splitting it up to help an agent perform a task.\n",
      "\n",
      "LangGraph makes it easy to implement each of them and LangSmith provides an easy way to test your agent and track context usage. Together, LangGraph and LangGraph enable a virtuous feedback loop for identifying the best opportunity to apply context engineering, implementing it, testing it, and repeating.\n",
      "\n",
      "Join our newsletter\n",
      "\n",
      "Updates from the LangChain team and community' metadata={'source': 'https://blog.langchain.com/context-engineering-for-agents/'}\n"
     ]
    }
   ],
   "source": [
    "from langchain_community.document_loaders import UnstructuredURLLoader\n",
    "\n",
    "urls = [\"https://blog.langchain.com/context-engineering-for-agents/\"]\n",
    "\n",
    "loader = UnstructuredURLLoader(urls=urls)\n",
    "docs = loader.load()\n",
    "\n",
    "print(f\"Loaded {len(docs)} web documents\")\n",
    "print(docs[0])\n"
   ]
  },
  {
   "cell_type": "markdown",
   "id": "f9f3cdf5",
   "metadata": {},
   "source": [
    "# YouTube Video Loader"
   ]
  },
  {
   "cell_type": "code",
   "execution_count": 29,
   "id": "4c0f8288",
   "metadata": {},
   "outputs": [
    {
     "data": {
      "text/plain": [
       "{'source': 'f7RfHxyoVyI',\n",
       " 'title': 'How AWS Outage Took Down Over 1000 Websites and Apps | Vantage with Palki Sharma',\n",
       " 'description': \"A major outage at Amazon Web Services (AWS) brought down huge parts of the internet—crippling platforms like Snapchat, Reddit, WhatsApp, and even banking and tax portals. The issue was traced to a DNS failure at a key AWS data center in North Virginia. The disruption has renewed concerns over Big Tech's dominance, with U.S. Senator Elizabeth Warren calling for the breakup of large internet giants like Amazon.\\n\\n---\\n\\nAWS Outage | Amazon Web Services Down | Amazon Web Services Outage | Firstpost | World News | News Live | Vantage | Palki Sharma | News\\n\\n#aws #amazonwebservice #awsoutage #firstpost #vantageonfirstpost #palkisharma #worldnews\\n\\nVantage is a ground-breaking news, opinions, and current affairs show from Firstpost. Catering to a global audience, Vantage covers the biggest news stories from a 360-degree perspective, giving viewers a chance to assess the impact of world events through a uniquely Indian lens.\\n\\nThe show is anchored by Palki Sharma, Managing Editor, Firstpost.\\n\\nBy breaking stereotypes, Vantage aims to challenge conventional wisdom and present an alternative view on global affairs, defying the norm and opening the door to new perspectives. The show goes beyond the headlines to uncover the hidden stories – making Vantage a destination for thought-provoking ideas.\\n\\nVantage airs Monday to Friday at 9 PM IST on Firstpost across all leading platforms.\\n \\u200b\\nSubscribe to Firstpost channel and press the bell icon to get notified when we go live.\\nhttps://www.youtube.com/@Firstpost\\n\\nFollow Firstpost on Instagram:\\nhttps://www.instagram.com/firstpost/\\n\\nFollow Firstpost on Facebook:\\nhttps://www.facebook.com/firstpostin/\\n\\nFollow Firstpost on Twitter:\\nhttps://twitter.com/firstpost\\n\\nFollow Firstpost on WhatsApp:\\nhttps://www.whatsapp.com/channel/0029Va6zOIrEQIamseyg762V\",\n",
       " 'view_count': 168766,\n",
       " 'publish_date': '2025-10-21',\n",
       " 'length': 346,\n",
       " 'author': 'Firstpost',\n",
       " 'channel_id': 'UCz8QaiQxApLq8sLNcszYyJw',\n",
       " 'webpage_url': 'https://www.youtube.com/watch?v=f7RfHxyoVyI'}"
      ]
     },
     "execution_count": 29,
     "metadata": {},
     "output_type": "execute_result"
    }
   ],
   "source": [
    "from langchain_yt_dlp.youtube_loader import YoutubeLoaderDL\n",
    "\n",
    "# Basic transcript loading\n",
    "loader = YoutubeLoaderDL.from_youtube_url(\n",
    "    \"https://www.youtube.com/watch?v=f7RfHxyoVyI\", add_video_info=True\n",
    ")\n",
    "\n",
    "docs=loader.load()\n",
    "docs[0].metadata"
   ]
  },
  {
   "cell_type": "markdown",
   "id": "d0edd4f4",
   "metadata": {},
   "source": [
    "# Text Loader"
   ]
  },
  {
   "cell_type": "code",
   "execution_count": 33,
   "id": "9e1592ff",
   "metadata": {},
   "outputs": [
    {
     "name": "stdout",
     "output_type": "stream",
     "text": [
      "[Document(metadata={'source': './speech.txt'}, page_content='The world must be made safe for democracy. Its peace must be planted upon the tested foundations of political liberty. We have no selfish ends to serve. We desire no conquest, no dominion. We seek no indemnities for ourselves, no material compensation for the sacrifices we shall freely make. We are but one of the champions of the rights of mankind. We shall be satisfied when those rights have been made as secure as the faith and the freedom of nations can make them.\\n\\nJust because we fight without rancor and without selfish object, seeking nothing for ourselves but what we shall wish to share with all free peoples, we shall, I feel confident, conduct our operations as belligerents without passion and ourselves observe with proud punctilio the principles of right and of fair play we profess to be fighting for.\\n\\n…\\n\\nIt will be all the easier for us to conduct ourselves as belligerents in a high spirit of right and fairness because we act without animus, not in enmity toward a people or with the desire to bring any injury or disadvantage upon them, but only in armed opposition to an irresponsible government which has thrown aside all considerations of humanity and of right and is running amuck. We are, let me say again, the sincere friends of the German people, and shall desire nothing so much as the early reestablishment of intimate relations of mutual advantage between us—however hard it may be for them, for the time being, to believe that this is spoken from our hearts.\\n\\nWe have borne with their present government through all these bitter months because of that friendship—exercising a patience and forbearance which would otherwise have been impossible. We shall, happily, still have an opportunity to prove that friendship in our daily attitude and actions toward the millions of men and women of German birth and native sympathy who live among us and share our life, and we shall be proud to prove it toward all who are in fact loyal to their neighbors and to the government in the hour of test. They are, most of them, as true and loyal Americans as if they had never known any other fealty or allegiance. They will be prompt to stand with us in rebuking and restraining the few who may be of a different mind and purpose. If there should be disloyalty, it will be dealt with with a firm hand of stern repression; but, if it lifts its head at all, it will lift it only here and there and without countenance except from a lawless and malignant few.\\n\\nIt is a distressing and oppressive duty, gentlemen of the Congress, which I have performed in thus addressing you. There are, it may be, many months of fiery trial and sacrifice ahead of us. It is a fearful thing to lead this great peaceful people into war, into the most terrible and disastrous of all wars, civilization itself seeming to be in the balance. But the right is more precious than peace, and we shall fight for the things which we have always carried nearest our hearts—for democracy, for the right of those who submit to authority to have a voice in their own governments, for the rights and liberties of small nations, for a universal dominion of right by such a concert of free peoples as shall bring peace and safety to all nations and make the world itself at last free.\\n\\nTo such a task we can dedicate our lives and our fortunes, everything that we are and everything that we have, with the pride of those who know that the day has come when America is privileged to spend her blood and her might for the principles that gave her birth and happiness and the peace which she has treasured. God helping her, she can do no other.')]\n"
     ]
    }
   ],
   "source": [
    "from langchain_community.document_loaders import TextLoader\n",
    "\n",
    "loader=TextLoader(\"./speech.txt\")\n",
    "docs = loader.load()\n",
    "\n",
    "print(docs)\n"
   ]
  },
  {
   "cell_type": "markdown",
   "id": "00275a0c",
   "metadata": {},
   "source": [
    "# CSV Loader"
   ]
  },
  {
   "cell_type": "code",
   "execution_count": 36,
   "id": "88fbcc6e",
   "metadata": {},
   "outputs": [
    {
     "name": "stdout",
     "output_type": "stream",
     "text": [
      "Loaded 506 rows\n",
      "CRIM: 0.00632\n",
      "ZN: 18\n",
      "INDUS: 2.31\n",
      "CHAS: 0\n",
      "NOX: 0.538\n",
      "RM: 6.575\n",
      "AGE: 65.2\n",
      "DIS: 4.09\n",
      "RAD: 1\n",
      "TAX: 296\n",
      "PTRATIO: 15.3\n",
      "B: 396.9\n",
      "LSTAT: 4.98\n",
      "MEDV: 24\n"
     ]
    }
   ],
   "source": [
    "from langchain_community.document_loaders import CSVLoader\n",
    "\n",
    "loader = CSVLoader(file_path=\"HousingData.csv\")\n",
    "docs = loader.load()\n",
    "\n",
    "print(f\"Loaded {len(docs)} rows\")\n",
    "print(docs[0].page_content)\n"
   ]
  },
  {
   "cell_type": "markdown",
   "id": "1efd1a60",
   "metadata": {},
   "source": [
    "# Wikipedia Loader"
   ]
  },
  {
   "cell_type": "code",
   "execution_count": null,
   "id": "dd9ece3e",
   "metadata": {},
   "outputs": [
    {
     "data": {
      "text/plain": [
       "{'title': 'Agentic AI',\n",
       " 'summary': 'Agentic AI is a class of artificial intelligence that focuses on autonomous systems that can make decisions and perform tasks with limited or no human intervention. The independent systems automatically respond to conditions to produce process results. The field is closely linked to agentic automation, also known as agent-based process management systems, when applied to process automation. Applications include software development, customer support, cybersecurity and business intelligence. \\n\\n',\n",
       " 'source': 'https://en.wikipedia.org/wiki/Agentic_AI'}"
      ]
     },
     "execution_count": 39,
     "metadata": {},
     "output_type": "execute_result"
    }
   ],
   "source": [
    "from langchain_community.document_loaders import WikipediaLoader\n",
    "docs = WikipediaLoader(query=\"Agentic AI\", load_max_docs=2).load()\n",
    "docs[0].metadata  \n"
   ]
  },
  {
   "cell_type": "code",
   "execution_count": null,
   "id": "4ef0e806",
   "metadata": {},
   "outputs": [
    {
     "data": {
      "text/plain": [
       "'Agentic AI is a class of artificial intelligence that focuses on autonomous systems that can make decisions and perform tasks with limited or no human intervention. The independent systems automatically respond to conditions to produce process results. The field is closely linked to agentic automation, also known as agent-based process management systems, when applied to process automation. Applications include software development, customer support, cybersecurity and business intelligence. \\n\\n\\n='"
      ]
     },
     "execution_count": 41,
     "metadata": {},
     "output_type": "execute_result"
    }
   ],
   "source": [
    "docs[0].page_content[:500]  "
   ]
  },
  {
   "cell_type": "markdown",
   "id": "0df74202",
   "metadata": {},
   "source": [
    "# ArxivLoader"
   ]
  },
  {
   "cell_type": "code",
   "execution_count": null,
   "id": "6979d29c",
   "metadata": {},
   "outputs": [
    {
     "data": {
      "text/plain": [
       "Document(metadata={'Entry ID': 'http://arxiv.org/abs/2401.11817v2', 'Published': datetime.date(2025, 2, 13), 'Title': 'Hallucination is Inevitable: An Innate Limitation of Large Language Models', 'Authors': 'Ziwei Xu, Sanjay Jain, Mohan Kankanhalli'}, page_content='Hallucination has been widely recognized to be a significant drawback for\\nlarge language models (LLMs). There have been many works that attempt to reduce\\nthe extent of hallucination. These efforts have mostly been empirical so far,\\nwhich cannot answer the fundamental question whether it can be completely\\neliminated. In this paper, we formalize the problem and show that it is\\nimpossible to eliminate hallucination in LLMs. Specifically, we define a formal\\nworld where hallucination is defined as inconsistencies between a computable\\nLLM and a computable ground truth function. By employing results from learning\\ntheory, we show that LLMs cannot learn all the computable functions and will\\ntherefore inevitably hallucinate if used as general problem solvers. Since the\\nformal world is a part of the real world which is much more complicated,\\nhallucinations are also inevitable for real world LLMs. Furthermore, for real\\nworld LLMs constrained by provable time complexity, we describe the\\nhallucination-prone tasks and empirically validate our claims. Finally, using\\nthe formal world framework, we discuss the possible mechanisms and efficacies\\nof existing hallucination mitigators as well as the practical implications on\\nthe safe deployment of LLMs.')"
      ]
     },
     "execution_count": 44,
     "metadata": {},
     "output_type": "execute_result"
    }
   ],
   "source": [
    "from langchain_community.document_loaders import ArxivLoader\n",
    "\n",
    "loader = ArxivLoader(\n",
    "    query=\"Hallucination is Inevitable\",\n",
    "    load_max_docs=2,\n",
    "\n",
    ")\n",
    "# docs = loader.load()\n",
    "# docs[0]\n",
    "docs = loader.get_summaries_as_docs()\n",
    "docs[0]"
   ]
  },
  {
   "cell_type": "markdown",
   "id": "ca45b1b1",
   "metadata": {},
   "source": [
    "### Summary\n",
    "\n",
    "- Document Loaders act as the **data ingestion layer** in LangChain.\n",
    "- All loaders now reside in `langchain_community`.\n",
    "- Each loader standardizes data into a `Document` format with `page_content` and `metadata`.\n",
    "- Next step: use **Text Splitters** to break these documents into smaller chunks for embeddings.\n"
   ]
  },
  {
   "cell_type": "markdown",
   "id": "4acd808c",
   "metadata": {},
   "source": []
  }
 ],
 "metadata": {
  "kernelspec": {
   "display_name": "langchain",
   "language": "python",
   "name": "python3"
  },
  "language_info": {
   "codemirror_mode": {
    "name": "ipython",
    "version": 3
   },
   "file_extension": ".py",
   "mimetype": "text/x-python",
   "name": "python",
   "nbconvert_exporter": "python",
   "pygments_lexer": "ipython3",
   "version": "3.11.13"
  }
 },
 "nbformat": 4,
 "nbformat_minor": 5
}
